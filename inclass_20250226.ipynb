{
 "cells": [
  {
   "cell_type": "markdown",
   "metadata": {},
   "source": [
    "# 1.PCA\n",
    "## 從主成分分析的目的與原理說起\n",
    "\n",
    "由於變數太多，且變數之間可能存在相關性。導致model負面影響。\n",
    "\n",
    "因此對變數做前處理，達到減少變數數量且讓變數間獨立，不讓變異數減少太多"
   ]
  },
  {
   "cell_type": "markdown",
   "metadata": {},
   "source": [
    "$x_1$ 、$x_2$ 、 $x_3$ 、$x_4$ 、$x_5$ ... $x_q$  \n",
    "$\\downarrow$ &emsp; &nbsp; $\\downarrow$ &emsp; $\\downarrow$ &emsp; $\\downarrow$ &emsp; &nbsp; $\\downarrow$ &emsp; &emsp;$\\downarrow$     \n",
    "$z_1$ 、$z_2$ 、 $z_3$ 、$z_4$ 、$z_5$ ...&nbsp; &nbsp; $z_q$  \n",
    "\n",
    "$z_i$之間不相關  \n",
    "$E(z_i z_j) = 0$ (假設 $E(z_i) = 0 $)  \n",
    "\n",
    "且具有變異數遞減關係    \n",
    "$\\sigma^2_{z_1}$ > $\\sigma^2_{z_2}$ > $\\sigma^2_{z_3}$ > $\\sigma^2_{z_4}$ ... > $\\sigma^2_{z_p}$\n",
    "\n",
    "並且  \n",
    "$\\sum_{i=1}^p \\sigma^2_{z_i}$ = $\\sum_{i=1}^p \\sigma^2_{x_i}$\n",
    "\n",
    "選取q個變數 q < p ，不讓變異數減少太多"
   ]
  },
  {
   "cell_type": "markdown",
   "metadata": {},
   "source": [
    "$z_i$用以下形式得出  \n",
    "\n",
    "$\\begin{bmatrix}\n",
    "         z_1 \\\\\n",
    "         z_2 \\\\\n",
    "        \\vdots \\\\\n",
    "         z_p \\\\\n",
    "        \\end{bmatrix}\n",
    "$ = \n",
    "$\\begin{bmatrix}\n",
    "        \\alpha_{11} & \\alpha_{12} & \\alpha_{13} & \\cdots & \\alpha_{1p} \\\\\n",
    "        \\alpha_{21} & \\alpha_{22} & \\alpha_{23} & \\cdots & \\alpha_{2p} \\\\\n",
    "        \\vdots & \\vdots & \\vdots & \\ddots & \\vdots \\\\\n",
    "        \\alpha_{p1} & \\alpha_{p2} & \\alpha_{p3} & \\cdots & \\alpha_{pp} \\\\\n",
    "        \\end{bmatrix}\n",
    "$ \n",
    "$\\begin{bmatrix}\n",
    "         x_1 \\\\\n",
    "         x_2 \\\\\n",
    "        \\vdots \\\\\n",
    "         x_p \\\\\n",
    "        \\end{bmatrix}\n",
    "$ $\\rightarrow$ $Z = AX$ "
   ]
  },
  {
   "cell_type": "markdown",
   "metadata": {},
   "source": [
    "$z_i$的共變異數矩陣 covariame matrix  \n",
    "\n",
    "$\\sum_{z} = Cov(Z) = E(ZZ^T)$= \n",
    " $E(\n",
    "    \\begin{bmatrix}\n",
    "         z_1 \\\\\n",
    "         z_2 \\\\\n",
    "        \\vdots \\\\\n",
    "         z_p \\\\\n",
    "        \\end{bmatrix}\n",
    "    \\begin{bmatrix}\n",
    "         z_1 ,\n",
    "         z_2 ,\n",
    "        \\cdots ,\n",
    "         z_p \n",
    "        \\end{bmatrix}\n",
    ")$= \n",
    "$E(\n",
    "    \\begin{bmatrix}\n",
    "        z_{1}z_{1} & z_{1}z_{2} & z_{1}z_{3} & \\cdots & z_{1}z_{p} \\\\\n",
    "        z_{2}z_{1} & z_{2}z_{2} & z_{2}z_{3} & \\cdots & z_{2}z_{p} \\\\\n",
    "        \\vdots & \\vdots & \\vdots & \\ddots & \\vdots \\\\\n",
    "        z_{p}z_{1} & z_{p}z_{2} & z_{p}z_{3} & \\cdots & z_{p}z_{p} \\\\\n",
    "        \\end{bmatrix}\n",
    ")$\n"
   ]
  },
  {
   "cell_type": "markdown",
   "metadata": {},
   "source": [
    "$E(\n",
    "    \\begin{bmatrix}\n",
    "        z_{1}z_{1} & z_{1}z_{2} & z_{1}z_{3} & \\cdots & z_{1}z_{p} \\\\\n",
    "        z_{2}z_{1} & z_{2}z_{2} & z_{2}z_{3} & \\cdots & z_{2}z_{p} \\\\\n",
    "        \\vdots & \\vdots & \\vdots & \\ddots & \\vdots \\\\\n",
    "        z_{p}z_{1} & z_{p}z_{2} & z_{p}z_{3} & \\cdots & z_{p}z_{p} \\\\\n",
    "        \\end{bmatrix}\n",
    ")\n",
    "=\\begin{bmatrix}\n",
    "        \\sigma^2_{z_2} & 0 & 0 & \\cdots & 0 \\\\\n",
    "        0 & \\sigma^2_{z_2} & 0 & \\cdots &0 \\\\\n",
    "        \\vdots & \\vdots & \\vdots & \\ddots & \\vdots \\\\\n",
    "        0 & 0 & 0 & \\cdots & \\sigma^2_{z_p} \\\\\n",
    "        \\end{bmatrix}$=$AE(XX^T)A^T$=$A\\sum_{X}A^T$"
   ]
  },
  {
   "cell_type": "markdown",
   "metadata": {},
   "source": [
    "## 複習  \n",
    "$P^{-1}QP = D$ &emsp; $D$ 是對角矩陣  \n",
    "$P = \\begin{bmatrix}\n",
    "         v_1 ,\n",
    "         v_2 ,\n",
    "        \\cdots ,\n",
    "         v_p \n",
    "        \\end{bmatrix}$ ,where &emsp; $ Qv_k = \\lambda_k v_k$  \n",
    "$v_k$ 是$Q$的特徵向量\n",
    "\n",
    "$Q\\begin{bmatrix}\n",
    "         v_1 ,\n",
    "         v_2 ,\n",
    "        \\cdots ,\n",
    "         v_p \n",
    "        \\end{bmatrix}$\n",
    "= $\\begin{bmatrix}\n",
    "         v_1 ,\n",
    "         v_2 ,\n",
    "        \\cdots ,\n",
    "         v_p \n",
    "        \\end{bmatrix}\n",
    "\\begin{bmatrix}\n",
    "        \\lambda_1 & 0 & 0 & \\cdots & 0 \\\\\n",
    "        0 & \\lambda_2 & 0 & \\cdots & 0 \\\\\n",
    "        \\vdots & \\vdots & \\vdots & \\ddots & \\vdots \\\\\n",
    "        0 & 0 & 0 & \\cdots & \\lambda_p \\\\\n",
    "        \\end{bmatrix}\n",
    "$   \n",
    "$QP = PD$"
   ]
  },
  {
   "cell_type": "markdown",
   "metadata": {},
   "source": [
    "### 對比  \n",
    "$A\\sum_{X}A^T$ 與 $P^{-1}QP$ 即  \n",
    "$A = P^{-1}$ 、 $A^T = P$ 與 $\\sum_{X} = Q$\n",
    "\n",
    "### 結論\n",
    "$Z = AX$  \n",
    "$Z = \\begin{bmatrix}\n",
    "         v_1^T \\\\\n",
    "         v_2^T \\\\\n",
    "        \\vdots \\\\\n",
    "         v_p^T \\\\\n",
    "        \\end{bmatrix}\n",
    "\\begin{bmatrix}\n",
    "         x_1 \\\\\n",
    "         x_2 \\\\\n",
    "        \\vdots \\\\\n",
    "         x_p \\\\\n",
    "        \\end{bmatrix}\n",
    "= \\begin{bmatrix}\n",
    "         v_1^TX \\\\\n",
    "         v_2^TX \\\\\n",
    "        \\vdots \\\\\n",
    "         v_p^TX \\\\\n",
    "        \\end{bmatrix}\n",
    "$"
   ]
  },
  {
   "cell_type": "markdown",
   "metadata": {},
   "source": [
    "# 程式碼"
   ]
  },
  {
   "cell_type": "code",
   "execution_count": 17,
   "metadata": {},
   "outputs": [],
   "source": [
    "import numpy as np\n",
    "import pandas as pd\n",
    "import seaborn as sns\n",
    "from matplotlib import pyplot as plt\n",
    "from scipy.linalg import eig ,pinv\n",
    "from sklearn.decomposition import PCA\n",
    "from sklearn.preprocessing import StandardScaler"
   ]
  },
  {
   "cell_type": "code",
   "execution_count": 3,
   "metadata": {},
   "outputs": [
    {
     "data": {
      "text/html": [
       "<div>\n",
       "<style scoped>\n",
       "    .dataframe tbody tr th:only-of-type {\n",
       "        vertical-align: middle;\n",
       "    }\n",
       "\n",
       "    .dataframe tbody tr th {\n",
       "        vertical-align: top;\n",
       "    }\n",
       "\n",
       "    .dataframe thead th {\n",
       "        text-align: right;\n",
       "    }\n",
       "</style>\n",
       "<table border=\"1\" class=\"dataframe\">\n",
       "  <thead>\n",
       "    <tr style=\"text-align: right;\">\n",
       "      <th></th>\n",
       "      <th>climate</th>\n",
       "      <th>housing</th>\n",
       "      <th>health</th>\n",
       "      <th>crime</th>\n",
       "      <th>transportation</th>\n",
       "      <th>education</th>\n",
       "      <th>arts</th>\n",
       "      <th>recreation</th>\n",
       "      <th>economics</th>\n",
       "    </tr>\n",
       "  </thead>\n",
       "  <tbody>\n",
       "    <tr>\n",
       "      <th>0</th>\n",
       "      <td>521</td>\n",
       "      <td>6200</td>\n",
       "      <td>237</td>\n",
       "      <td>923</td>\n",
       "      <td>4031</td>\n",
       "      <td>2757</td>\n",
       "      <td>996</td>\n",
       "      <td>1405</td>\n",
       "      <td>7633</td>\n",
       "    </tr>\n",
       "    <tr>\n",
       "      <th>1</th>\n",
       "      <td>575</td>\n",
       "      <td>8138</td>\n",
       "      <td>1656</td>\n",
       "      <td>886</td>\n",
       "      <td>4883</td>\n",
       "      <td>2438</td>\n",
       "      <td>5564</td>\n",
       "      <td>2632</td>\n",
       "      <td>4350</td>\n",
       "    </tr>\n",
       "    <tr>\n",
       "      <th>2</th>\n",
       "      <td>468</td>\n",
       "      <td>7339</td>\n",
       "      <td>618</td>\n",
       "      <td>970</td>\n",
       "      <td>2531</td>\n",
       "      <td>2560</td>\n",
       "      <td>237</td>\n",
       "      <td>859</td>\n",
       "      <td>5250</td>\n",
       "    </tr>\n",
       "    <tr>\n",
       "      <th>3</th>\n",
       "      <td>476</td>\n",
       "      <td>7908</td>\n",
       "      <td>1431</td>\n",
       "      <td>610</td>\n",
       "      <td>6883</td>\n",
       "      <td>3399</td>\n",
       "      <td>4655</td>\n",
       "      <td>1617</td>\n",
       "      <td>5864</td>\n",
       "    </tr>\n",
       "    <tr>\n",
       "      <th>4</th>\n",
       "      <td>659</td>\n",
       "      <td>8393</td>\n",
       "      <td>1853</td>\n",
       "      <td>1483</td>\n",
       "      <td>6558</td>\n",
       "      <td>3026</td>\n",
       "      <td>4496</td>\n",
       "      <td>2612</td>\n",
       "      <td>5727</td>\n",
       "    </tr>\n",
       "  </tbody>\n",
       "</table>\n",
       "</div>"
      ],
      "text/plain": [
       "   climate         housing         health          crime           \\\n",
       "0             521            6200             237             923   \n",
       "1             575            8138            1656             886   \n",
       "2             468            7339             618             970   \n",
       "3             476            7908            1431             610   \n",
       "4             659            8393            1853            1483   \n",
       "\n",
       "   transportation  education       arts            recreation      \\\n",
       "0            4031            2757             996            1405   \n",
       "1            4883            2438            5564            2632   \n",
       "2            2531            2560             237             859   \n",
       "3            6883            3399            4655            1617   \n",
       "4            6558            3026            4496            2612   \n",
       "\n",
       "   economics       \n",
       "0            7633  \n",
       "1            4350  \n",
       "2            5250  \n",
       "3            5864  \n",
       "4            5727  "
      ]
     },
     "execution_count": 3,
     "metadata": {},
     "output_type": "execute_result"
    }
   ],
   "source": [
    "df = pd.read_excel(\"data/city_quality.xlsx\")\n",
    "df.head()\n"
   ]
  },
  {
   "cell_type": "code",
   "execution_count": 8,
   "metadata": {},
   "outputs": [
    {
     "name": "stdout",
     "output_type": "stream",
     "text": [
      "<class 'pandas.core.frame.DataFrame'>\n",
      "RangeIndex: 329 entries, 0 to 328\n",
      "Data columns (total 9 columns):\n",
      " #   Column          Non-Null Count  Dtype\n",
      "---  ------          --------------  -----\n",
      " 0   climate         329 non-null    int64\n",
      " 1   housing         329 non-null    int64\n",
      " 2   health          329 non-null    int64\n",
      " 3   crime           329 non-null    int64\n",
      " 4   transportation  329 non-null    int64\n",
      " 5   education       329 non-null    int64\n",
      " 6   arts            329 non-null    int64\n",
      " 7   recreation      329 non-null    int64\n",
      " 8   economics       329 non-null    int64\n",
      "dtypes: int64(9)\n",
      "memory usage: 23.3 KB\n"
     ]
    }
   ],
   "source": [
    "df.describe() # summary statistics\n",
    "df.info() # data types and missing values"
   ]
  },
  {
   "cell_type": "code",
   "execution_count": 20,
   "metadata": {},
   "outputs": [
    {
     "data": {
      "image/png": "[encoded data removed]",
      "text/plain": [
       "<Figure size 1000x700 with 1 Axes>"
      ]
     },
     "metadata": {},
     "output_type": "display_data"
    }
   ],
   "source": [
    "# draw a boxplot\n",
    "plt.figure(figsize=(10, 7))\n",
    "sns.boxplot(data=df,orient='h')\n",
    "plt.xlabel(\"city\")\n",
    "plt.ylabel(\"quality\")\n",
    "plt.show()"
   ]
  },
  {
   "cell_type": "code",
   "execution_count": null,
   "metadata": {},
   "outputs": [],
   "source": [
    "scaler = StandardScaler() # create a StandardScaler object\n",
    "scaler.fit(df) # fit the StandardScaler object to the data\n",
    "scaler_df = scaler.transform(df) # transform the data using the fitted StandardScaler object\n",
    "scaler_df = pd.DataFrame(scaler_df, columns=df.columns) # create a DataFrame from the transformed data"
   ]
  },
  {
   "cell_type": "code",
   "execution_count": 24,
   "metadata": {},
   "outputs": [
    {
     "data": {
      "image/png": "[encoded data removed]",
      "text/plain": [
       "<Figure size 640x480 with 1 Axes>"
      ]
     },
     "metadata": {},
     "output_type": "display_data"
    }
   ],
   "source": [
    "scaler_df.head()\n",
    "sns.boxplot(data=scaler_df,orient='h')\n",
    "plt.title(\"city quality \")\n",
    "plt.xlabel(\"city\")\n",
    "plt.ylabel(\"quality\")\n",
    "plt.show()"
   ]
  },
  {
   "cell_type": "code",
   "execution_count": null,
   "metadata": {},
   "outputs": [],
   "source": []
  }
 ],
 "metadata": {
  "kernelspec": {
   "display_name": "Python 3",
   "language": "python",
   "name": "python3"
  },
  "language_info": {
   "codemirror_mode": {
    "name": "ipython",
    "version": 3
   },
   "file_extension": ".py",
   "mimetype": "text/x-python",
   "name": "python",
   "nbconvert_exporter": "python",
   "pygments_lexer": "ipython3",
   "version": "3.9.10"
  }
 },
 "nbformat": 4,
 "nbformat_minor": 2
}
